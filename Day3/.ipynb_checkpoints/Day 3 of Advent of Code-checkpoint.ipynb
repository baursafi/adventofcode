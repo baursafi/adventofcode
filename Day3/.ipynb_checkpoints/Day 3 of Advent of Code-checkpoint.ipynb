{
 "cells": [
  {
   "cell_type": "markdown",
   "metadata": {},
   "source": [
    "## --- Day 3: Crossed Wires ---\n",
    "The gravity assist was successful, and you're well on your way to the Venus refuelling station. During the rush back on Earth, the fuel management system wasn't completely installed, so that's next on the priority list.\n",
    "\n",
    "Opening the front panel reveals a jumble of wires. Specifically, two wires are connected to a central port and extend outward on a grid. You trace the path each wire takes as it leaves the central port, one wire per line of text (your puzzle input).\n",
    "\n",
    "The wires twist and turn, but the two wires occasionally cross paths. To fix the circuit, you need to find the intersection point closest to the central port. Because the wires are on a grid, use the Manhattan distance for this measurement. While the wires do technically cross right at the central port where they both start, this point does not count, nor does a wire count as crossing with itself.\n",
    "\n",
    "For example, if the first wire's path is R8,U5,L5,D3, then starting from the central port (o), it goes right 8, up 5, left 5, and finally down 3:\n",
    "\n",
    "...........\n",
    "...........\n",
    "...........\n",
    "....+----+.\n",
    "....|....|.\n",
    "....|....|.\n",
    "....|....|.\n",
    ".........|.\n",
    ".o-------+.\n",
    "...........\n",
    "Then, if the second wire's path is U7,R6,D4,L4, it goes up 7, right 6, down 4, and left 4:\n",
    "\n",
    "...........\n",
    ".+-----+...\n",
    ".|.....|...\n",
    ".|..+--X-+.\n",
    ".|..|..|.|.\n",
    ".|.-X--+.|.\n",
    ".|..|....|.\n",
    ".|.......|.\n",
    ".o-------+.\n",
    "...........\n",
    "These wires cross at two locations (marked X), but the lower-left one is closer to the central port: its distance is 3 + 3 = 6.\n",
    "\n",
    "Here are a few more examples:\n",
    "\n",
    "R75,D30,R83,U83,L12,D49,R71,U7,L72\n",
    "U62,R66,U55,R34,D71,R55,D58,R83 = distance 159\n",
    "R98,U47,R26,D63,R33,U87,L62,D20,R33,U53,R51\n",
    "U98,R91,D20,R16,D67,R40,U7,R15,U6,R7 = distance 135\n",
    "What is the Manhattan distance from the central port to the closest intersection?"
   ]
  },
  {
   "cell_type": "markdown",
   "metadata": {},
   "source": [
    "### Step 1\n",
    "- Import Libraries\n",
    "- Read Input (added test files to assert the output)"
   ]
  },
  {
   "cell_type": "code",
   "execution_count": 339,
   "metadata": {},
   "outputs": [],
   "source": [
    "import pandas as pd\n",
    "import numpy as np"
   ]
  },
  {
   "cell_type": "code",
   "execution_count": 340,
   "metadata": {},
   "outputs": [],
   "source": [
    "file = open('test1.txt', 'r')\n",
    "lines = file.readlines()"
   ]
  },
  {
   "cell_type": "code",
   "execution_count": 341,
   "metadata": {},
   "outputs": [],
   "source": [
    "wire1 = lines[0].replace('\\n','').split(',')\n",
    "wire2 = lines[1].replace('\\n','').split(',')"
   ]
  },
  {
   "cell_type": "code",
   "execution_count": 342,
   "metadata": {},
   "outputs": [],
   "source": [
    "wire1 = pd.DataFrame(wire1, columns = ['Wire1'])\n",
    "wire2 = pd.DataFrame(wire2, columns = ['Wire2'])"
   ]
  },
  {
   "cell_type": "markdown",
   "metadata": {},
   "source": [
    "### Step 2 Convert Right-Left-Up-Down directions into Moves on an array"
   ]
  },
  {
   "cell_type": "code",
   "execution_count": 343,
   "metadata": {},
   "outputs": [],
   "source": [
    "def direction(x):\n",
    "  dirdict = {'R':[1,0], 'L': [-1,0], 'U':[0,1], 'D':[0,-1]}\n",
    "  # print(dirdict[x[0]])\n",
    "  # print(eval(x[1:]))\n",
    "  return [dirdict[x[0]][0]*eval(x[1:]), dirdict[x[0]][1] * eval(x[1:])]"
   ]
  },
  {
   "cell_type": "markdown",
   "metadata": {},
   "source": [
    "### Step 3:\n",
    "Follow the cursor and append the coordinates' sequence to look for crossings in the future"
   ]
  },
  {
   "cell_type": "code",
   "execution_count": 344,
   "metadata": {},
   "outputs": [],
   "source": [
    "wire1['directions'] = wire1.Wire1.apply(direction)\n",
    "wire1['x2'] = wire1.directions.apply(lambda x: x[0]).cumsum()\n",
    "wire1['y2'] = wire1.directions.apply(lambda x: x[1]).cumsum()\n",
    "wire1['x1'] = wire1['x2'].shift(1)\n",
    "wire1['y1'] = wire1['y2'].shift(1)\n",
    "wire1.fillna(0, inplace = True)\n",
    "wire1['coord1'] = wire1[['x1','y1', 'x2', 'y2']].apply(list, axis = 1)"
   ]
  },
  {
   "cell_type": "code",
   "execution_count": 345,
   "metadata": {},
   "outputs": [],
   "source": [
    "wire2['directions'] = wire2.Wire2.apply(direction)\n",
    "wire2['x2'] = wire2.directions.apply(lambda x: x[0]).cumsum()\n",
    "wire2['y2'] = wire2.directions.apply(lambda x: x[1]).cumsum()\n",
    "wire2['x1'] = wire2['x2'].shift(1)\n",
    "wire2['y1'] = wire2['y2'].shift(1)\n",
    "wire2.fillna(0, inplace = True)\n",
    "wire2['coord2'] = wire2[['x1','y1', 'x2', 'y2']].apply(list, axis = 1)"
   ]
  },
  {
   "cell_type": "markdown",
   "metadata": {},
   "source": [
    "### Step4:\n",
    "Return the coordinates of the every next turn"
   ]
  },
  {
   "cell_type": "code",
   "execution_count": 346,
   "metadata": {},
   "outputs": [],
   "source": [
    "def intersection(coord1, coord2):\n",
    "  xa1 = coord1[0]\n",
    "  xa2 = coord1[2]\n",
    "  ya1 = coord1[1]\n",
    "  ya2 = coord1[3]\n",
    "  xb1 = coord2[0]\n",
    "  xb2 = coord2[2]\n",
    "  yb1 = coord2[1]\n",
    "  yb2 = coord2[3]\n",
    "  if max(xa1,xa2) < min(xb1, xb2) or min(xa1,xa2) > max(xb1, xb2) or max(ya1,ya2) < min(yb1, yb2) or min(ya1, ya2) > max(yb1, yb2):\n",
    "    return [0,0]\n",
    "  elif xa1 == xa2:\n",
    "    return [abs(xa1),abs(yb1)]\n",
    "  elif ya1 == ya2:\n",
    "    return [abs(xb1),abs(ya1)]"
   ]
  },
  {
   "cell_type": "markdown",
   "metadata": {},
   "source": [
    "### Step 4a\n",
    "Walk along each wire and cross check if there is a potential for a cross-wiring"
   ]
  },
  {
   "cell_type": "code",
   "execution_count": 347,
   "metadata": {},
   "outputs": [],
   "source": [
    "ix = list()\n",
    "for i_index,i in enumerate(wire1.coord1):\n",
    "  for ii_index,ii in enumerate(wire2.coord2):\n",
    "    ix.append([i_index, ii_index,intersection(i,ii)])"
   ]
  },
  {
   "cell_type": "code",
   "execution_count": 348,
   "metadata": {},
   "outputs": [],
   "source": [
    "# pd.DataFrame([i for i in ix if i[2] != [0,0]])"
   ]
  },
  {
   "cell_type": "code",
   "execution_count": 349,
   "metadata": {},
   "outputs": [
    {
     "data": {
      "text/html": [
       "<div>\n",
       "<style scoped>\n",
       "    .dataframe tbody tr th:only-of-type {\n",
       "        vertical-align: middle;\n",
       "    }\n",
       "\n",
       "    .dataframe tbody tr th {\n",
       "        vertical-align: top;\n",
       "    }\n",
       "\n",
       "    .dataframe thead th {\n",
       "        text-align: right;\n",
       "    }\n",
       "</style>\n",
       "<table border=\"1\" class=\"dataframe\">\n",
       "  <thead>\n",
       "    <tr style=\"text-align: right;\">\n",
       "      <th></th>\n",
       "      <th>Wire1</th>\n",
       "      <th>directions</th>\n",
       "      <th>x2</th>\n",
       "      <th>y2</th>\n",
       "      <th>x1</th>\n",
       "      <th>y1</th>\n",
       "      <th>coord1</th>\n",
       "      <th>steps</th>\n",
       "    </tr>\n",
       "  </thead>\n",
       "  <tbody>\n",
       "    <tr>\n",
       "      <th>0</th>\n",
       "      <td>R75</td>\n",
       "      <td>[75, 0]</td>\n",
       "      <td>75</td>\n",
       "      <td>0</td>\n",
       "      <td>0.0</td>\n",
       "      <td>0.0</td>\n",
       "      <td>[0.0, 0.0, 75.0, 0.0]</td>\n",
       "      <td>75</td>\n",
       "    </tr>\n",
       "    <tr>\n",
       "      <th>1</th>\n",
       "      <td>D30</td>\n",
       "      <td>[0, -30]</td>\n",
       "      <td>75</td>\n",
       "      <td>-30</td>\n",
       "      <td>75.0</td>\n",
       "      <td>0.0</td>\n",
       "      <td>[75.0, 0.0, 75.0, -30.0]</td>\n",
       "      <td>105</td>\n",
       "    </tr>\n",
       "    <tr>\n",
       "      <th>2</th>\n",
       "      <td>R83</td>\n",
       "      <td>[83, 0]</td>\n",
       "      <td>158</td>\n",
       "      <td>-30</td>\n",
       "      <td>75.0</td>\n",
       "      <td>-30.0</td>\n",
       "      <td>[75.0, -30.0, 158.0, -30.0]</td>\n",
       "      <td>188</td>\n",
       "    </tr>\n",
       "    <tr>\n",
       "      <th>3</th>\n",
       "      <td>U83</td>\n",
       "      <td>[0, 83]</td>\n",
       "      <td>158</td>\n",
       "      <td>53</td>\n",
       "      <td>158.0</td>\n",
       "      <td>-30.0</td>\n",
       "      <td>[158.0, -30.0, 158.0, 53.0]</td>\n",
       "      <td>271</td>\n",
       "    </tr>\n",
       "    <tr>\n",
       "      <th>4</th>\n",
       "      <td>L12</td>\n",
       "      <td>[-12, 0]</td>\n",
       "      <td>146</td>\n",
       "      <td>53</td>\n",
       "      <td>158.0</td>\n",
       "      <td>53.0</td>\n",
       "      <td>[158.0, 53.0, 146.0, 53.0]</td>\n",
       "      <td>283</td>\n",
       "    </tr>\n",
       "    <tr>\n",
       "      <th>5</th>\n",
       "      <td>D49</td>\n",
       "      <td>[0, -49]</td>\n",
       "      <td>146</td>\n",
       "      <td>4</td>\n",
       "      <td>146.0</td>\n",
       "      <td>53.0</td>\n",
       "      <td>[146.0, 53.0, 146.0, 4.0]</td>\n",
       "      <td>332</td>\n",
       "    </tr>\n",
       "    <tr>\n",
       "      <th>6</th>\n",
       "      <td>R71</td>\n",
       "      <td>[71, 0]</td>\n",
       "      <td>217</td>\n",
       "      <td>4</td>\n",
       "      <td>146.0</td>\n",
       "      <td>4.0</td>\n",
       "      <td>[146.0, 4.0, 217.0, 4.0]</td>\n",
       "      <td>403</td>\n",
       "    </tr>\n",
       "    <tr>\n",
       "      <th>7</th>\n",
       "      <td>U7</td>\n",
       "      <td>[0, 7]</td>\n",
       "      <td>217</td>\n",
       "      <td>11</td>\n",
       "      <td>217.0</td>\n",
       "      <td>4.0</td>\n",
       "      <td>[217.0, 4.0, 217.0, 11.0]</td>\n",
       "      <td>410</td>\n",
       "    </tr>\n",
       "    <tr>\n",
       "      <th>8</th>\n",
       "      <td>L72</td>\n",
       "      <td>[-72, 0]</td>\n",
       "      <td>145</td>\n",
       "      <td>11</td>\n",
       "      <td>217.0</td>\n",
       "      <td>11.0</td>\n",
       "      <td>[217.0, 11.0, 145.0, 11.0]</td>\n",
       "      <td>482</td>\n",
       "    </tr>\n",
       "  </tbody>\n",
       "</table>\n",
       "</div>"
      ],
      "text/plain": [
       "  Wire1 directions   x2  y2     x1    y1                       coord1  steps\n",
       "0   R75    [75, 0]   75   0    0.0   0.0        [0.0, 0.0, 75.0, 0.0]     75\n",
       "1   D30   [0, -30]   75 -30   75.0   0.0     [75.0, 0.0, 75.0, -30.0]    105\n",
       "2   R83    [83, 0]  158 -30   75.0 -30.0  [75.0, -30.0, 158.0, -30.0]    188\n",
       "3   U83    [0, 83]  158  53  158.0 -30.0  [158.0, -30.0, 158.0, 53.0]    271\n",
       "4   L12   [-12, 0]  146  53  158.0  53.0   [158.0, 53.0, 146.0, 53.0]    283\n",
       "5   D49   [0, -49]  146   4  146.0  53.0    [146.0, 53.0, 146.0, 4.0]    332\n",
       "6   R71    [71, 0]  217   4  146.0   4.0     [146.0, 4.0, 217.0, 4.0]    403\n",
       "7    U7     [0, 7]  217  11  217.0   4.0    [217.0, 4.0, 217.0, 11.0]    410\n",
       "8   L72   [-72, 0]  145  11  217.0  11.0   [217.0, 11.0, 145.0, 11.0]    482"
      ]
     },
     "execution_count": 349,
     "metadata": {},
     "output_type": "execute_result"
    }
   ],
   "source": [
    "# Add a column for steps for every next turn in the sequence\n",
    "\n",
    "wire1['steps'] = wire1.Wire1.apply(lambda x: eval(x[1:])).cumsum()\n",
    "wire1.head(10)"
   ]
  },
  {
   "cell_type": "code",
   "execution_count": 350,
   "metadata": {},
   "outputs": [
    {
     "data": {
      "text/html": [
       "<div>\n",
       "<style scoped>\n",
       "    .dataframe tbody tr th:only-of-type {\n",
       "        vertical-align: middle;\n",
       "    }\n",
       "\n",
       "    .dataframe tbody tr th {\n",
       "        vertical-align: top;\n",
       "    }\n",
       "\n",
       "    .dataframe thead th {\n",
       "        text-align: right;\n",
       "    }\n",
       "</style>\n",
       "<table border=\"1\" class=\"dataframe\">\n",
       "  <thead>\n",
       "    <tr style=\"text-align: right;\">\n",
       "      <th></th>\n",
       "      <th>Wire2</th>\n",
       "      <th>directions</th>\n",
       "      <th>x2</th>\n",
       "      <th>y2</th>\n",
       "      <th>x1</th>\n",
       "      <th>y1</th>\n",
       "      <th>coord2</th>\n",
       "      <th>steps</th>\n",
       "    </tr>\n",
       "  </thead>\n",
       "  <tbody>\n",
       "    <tr>\n",
       "      <th>0</th>\n",
       "      <td>U62</td>\n",
       "      <td>[0, 62]</td>\n",
       "      <td>0</td>\n",
       "      <td>62</td>\n",
       "      <td>0.0</td>\n",
       "      <td>0.0</td>\n",
       "      <td>[0.0, 0.0, 0.0, 62.0]</td>\n",
       "      <td>62</td>\n",
       "    </tr>\n",
       "    <tr>\n",
       "      <th>1</th>\n",
       "      <td>R66</td>\n",
       "      <td>[66, 0]</td>\n",
       "      <td>66</td>\n",
       "      <td>62</td>\n",
       "      <td>0.0</td>\n",
       "      <td>62.0</td>\n",
       "      <td>[0.0, 62.0, 66.0, 62.0]</td>\n",
       "      <td>128</td>\n",
       "    </tr>\n",
       "    <tr>\n",
       "      <th>2</th>\n",
       "      <td>U55</td>\n",
       "      <td>[0, 55]</td>\n",
       "      <td>66</td>\n",
       "      <td>117</td>\n",
       "      <td>66.0</td>\n",
       "      <td>62.0</td>\n",
       "      <td>[66.0, 62.0, 66.0, 117.0]</td>\n",
       "      <td>183</td>\n",
       "    </tr>\n",
       "    <tr>\n",
       "      <th>3</th>\n",
       "      <td>R34</td>\n",
       "      <td>[34, 0]</td>\n",
       "      <td>100</td>\n",
       "      <td>117</td>\n",
       "      <td>66.0</td>\n",
       "      <td>117.0</td>\n",
       "      <td>[66.0, 117.0, 100.0, 117.0]</td>\n",
       "      <td>217</td>\n",
       "    </tr>\n",
       "    <tr>\n",
       "      <th>4</th>\n",
       "      <td>D71</td>\n",
       "      <td>[0, -71]</td>\n",
       "      <td>100</td>\n",
       "      <td>46</td>\n",
       "      <td>100.0</td>\n",
       "      <td>117.0</td>\n",
       "      <td>[100.0, 117.0, 100.0, 46.0]</td>\n",
       "      <td>288</td>\n",
       "    </tr>\n",
       "    <tr>\n",
       "      <th>5</th>\n",
       "      <td>R55</td>\n",
       "      <td>[55, 0]</td>\n",
       "      <td>155</td>\n",
       "      <td>46</td>\n",
       "      <td>100.0</td>\n",
       "      <td>46.0</td>\n",
       "      <td>[100.0, 46.0, 155.0, 46.0]</td>\n",
       "      <td>343</td>\n",
       "    </tr>\n",
       "    <tr>\n",
       "      <th>6</th>\n",
       "      <td>D58</td>\n",
       "      <td>[0, -58]</td>\n",
       "      <td>155</td>\n",
       "      <td>-12</td>\n",
       "      <td>155.0</td>\n",
       "      <td>46.0</td>\n",
       "      <td>[155.0, 46.0, 155.0, -12.0]</td>\n",
       "      <td>401</td>\n",
       "    </tr>\n",
       "    <tr>\n",
       "      <th>7</th>\n",
       "      <td>R83</td>\n",
       "      <td>[83, 0]</td>\n",
       "      <td>238</td>\n",
       "      <td>-12</td>\n",
       "      <td>155.0</td>\n",
       "      <td>-12.0</td>\n",
       "      <td>[155.0, -12.0, 238.0, -12.0]</td>\n",
       "      <td>484</td>\n",
       "    </tr>\n",
       "  </tbody>\n",
       "</table>\n",
       "</div>"
      ],
      "text/plain": [
       "  Wire2 directions   x2   y2     x1     y1                        coord2  \\\n",
       "0   U62    [0, 62]    0   62    0.0    0.0         [0.0, 0.0, 0.0, 62.0]   \n",
       "1   R66    [66, 0]   66   62    0.0   62.0       [0.0, 62.0, 66.0, 62.0]   \n",
       "2   U55    [0, 55]   66  117   66.0   62.0     [66.0, 62.0, 66.0, 117.0]   \n",
       "3   R34    [34, 0]  100  117   66.0  117.0   [66.0, 117.0, 100.0, 117.0]   \n",
       "4   D71   [0, -71]  100   46  100.0  117.0   [100.0, 117.0, 100.0, 46.0]   \n",
       "5   R55    [55, 0]  155   46  100.0   46.0    [100.0, 46.0, 155.0, 46.0]   \n",
       "6   D58   [0, -58]  155  -12  155.0   46.0   [155.0, 46.0, 155.0, -12.0]   \n",
       "7   R83    [83, 0]  238  -12  155.0  -12.0  [155.0, -12.0, 238.0, -12.0]   \n",
       "\n",
       "   steps  \n",
       "0     62  \n",
       "1    128  \n",
       "2    183  \n",
       "3    217  \n",
       "4    288  \n",
       "5    343  \n",
       "6    401  \n",
       "7    484  "
      ]
     },
     "execution_count": 350,
     "metadata": {},
     "output_type": "execute_result"
    }
   ],
   "source": [
    "#Do the same for wire 2\n",
    "\n",
    "wire2['steps'] = wire2.Wire2.apply(lambda x: eval(x[1:])).cumsum()\n",
    "wire2.head(10)"
   ]
  },
  {
   "cell_type": "markdown",
   "metadata": {},
   "source": [
    "### Step 5:\n",
    "Given we know the coordinates of each step, we can find the minimum distance"
   ]
  },
  {
   "cell_type": "code",
   "execution_count": 351,
   "metadata": {},
   "outputs": [
    {
     "name": "stdout",
     "output_type": "stream",
     "text": [
      "The closest crossing is 159 steps far from the start\n"
     ]
    }
   ],
   "source": [
    "xings = pd.DataFrame([i for i in ix if i[2] != [0,0]])\n",
    "xings['distance'] = xings[2].apply(sum)\n",
    "print(f'The closest crossing is {int(xings[xings.distance > 0].distance.min())} steps far from the start')"
   ]
  },
  {
   "cell_type": "markdown",
   "metadata": {},
   "source": [
    "## --- Part Two ---\n",
    "It turns out that this circuit is very timing-sensitive; you actually need to minimize the signal delay.\n",
    "\n",
    "To do this, calculate the number of steps each wire takes to reach each intersection; choose the intersection where the sum of both wires' steps is lowest. If a wire visits a position on the grid multiple times, use the steps value from the first time it visits that position when calculating the total value of a specific intersection.\n",
    "\n",
    "The number of steps a wire takes is the total number of grid squares the wire has entered to get to that location, including the intersection being considered. Again consider the example from above:\n",
    "\n",
    "...........\n",
    ".+-----+...\n",
    ".|.....|...\n",
    ".|..+--X-+.\n",
    ".|..|..|.|.\n",
    ".|.-X--+.|.\n",
    ".|..|....|.\n",
    ".|.......|.\n",
    ".o-------+.\n",
    "...........\n",
    "In the above example, the intersection closest to the central port is reached after 8+5+5+2 = 20 steps by the first wire and 7+6+4+3 = 20 steps by the second wire for a total of 20+20 = 40 steps.\n",
    "\n",
    "However, the top-right intersection is better: the first wire takes only 8+5+2 = 15 and the second wire takes only 7+6+2 = 15, a total of 15+15 = 30 steps.\n",
    "\n",
    "Here are the best steps for the extra examples from above:\n",
    "\n",
    "R75,D30,R83,U83,L12,D49,R71,U7,L72\n",
    "U62,R66,U55,R34,D71,R55,D58,R83 = 610 steps\n",
    "R98,U47,R26,D63,R33,U87,L62,D20,R33,U53,R51\n",
    "U98,R91,D20,R16,D67,R40,U7,R15,U6,R7 = 410 steps\n",
    "What is the fewest combined steps the wires must take to reach an intersection?"
   ]
  },
  {
   "cell_type": "markdown",
   "metadata": {},
   "source": [
    "### Step 6 / B1\n",
    "Find the closest crossing to get by both wires:"
   ]
  },
  {
   "cell_type": "code",
   "execution_count": 352,
   "metadata": {},
   "outputs": [],
   "source": [
    "cross1 = wire1[wire1.index.isin(xings[0].values)].steps\n",
    "cross2 = wire2[wire2.index.isin(xings[1].values)].steps"
   ]
  },
  {
   "cell_type": "code",
   "execution_count": 353,
   "metadata": {},
   "outputs": [],
   "source": [
    "xings['wire1steps'] = xings[0].apply(lambda x: wire1[wire1.index == x-1].steps.values[0])\n",
    "xings['wire2steps'] = xings[1].apply(lambda x: wire2[wire2.index == x-1].steps.values[0])\n",
    "xings['steps'] = xings.wire1steps + xings.wire2steps"
   ]
  },
  {
   "cell_type": "code",
   "execution_count": 354,
   "metadata": {},
   "outputs": [],
   "source": [
    "steps = xings[xings.steps == xings.steps.min()]['steps'].item()"
   ]
  },
  {
   "cell_type": "markdown",
   "metadata": {},
   "source": [
    "### Step 7 / B2:\n",
    "- If the x1 = x2 in a wire then the add additional steps from y1 to y of the crossing AND steps from x1 of the other wire to x of the crossing\n",
    "- And alternatively if the first not a case do the same but on the wire 2"
   ]
  },
  {
   "cell_type": "code",
   "execution_count": 355,
   "metadata": {},
   "outputs": [],
   "source": [
    "if abs(wire1[['x1']].loc[xings[xings.steps == xings.steps.min()][0],:].values.item()) == abs(wire1[['x2']].loc[xings[xings.steps == xings.steps.min()][0],:].values.item()):\n",
    "    case = 1\n",
    "    y = abs(wire1[['y1']].loc[xings[xings.steps == xings.steps.min()][0],:].values.item()) - abs(wire2[['y2']].loc[xings[xings.steps == xings.steps.min()][1],:].values.item())\n",
    "    x = abs(wire2[['x1']].loc[xings[xings.steps == xings.steps.min()][1],:].values.item()) - abs(wire1[['x2']].loc[xings[xings.steps == xings.steps.min()][0],:].values.item())\n",
    "else:\n",
    "    case = 2\n",
    "    y = abs(wire2[['y1']].loc[xings[xings.steps == xings.steps.min()][1],:].values.item()) - abs(wire1[['y2']].loc[xings[xings.steps == xings.steps.min()][0],:].values.item())\n",
    "    x = abs(wire1[['x1']].loc[xings[xings.steps == xings.steps.min()][0],:].values.item()) - abs(wire2[['x2']].loc[xings[xings.steps == xings.steps.min()][1],:].values.item())\n",
    "z = abs(y) + abs(x)"
   ]
  },
  {
   "cell_type": "code",
   "execution_count": 356,
   "metadata": {},
   "outputs": [
    {
     "name": "stdout",
     "output_type": "stream",
     "text": [
      "571 -46.0 7.0 1 624.0\n"
     ]
    }
   ],
   "source": [
    "print(steps,x,y, case, steps + abs(x)+ abs(y))"
   ]
  },
  {
   "cell_type": "code",
   "execution_count": 361,
   "metadata": {},
   "outputs": [
    {
     "name": "stdout",
     "output_type": "stream",
     "text": [
      "The closest crossing if walked by wired would be 624 steps away\n"
     ]
    }
   ],
   "source": [
    "print(f'The closest crossing if walked by wired would be {int(steps+z)} steps away')"
   ]
  },
  {
   "cell_type": "markdown",
   "metadata": {},
   "source": [
    "### Thank you, would be glad to hear your feedback"
   ]
  },
  {
   "cell_type": "code",
   "execution_count": null,
   "metadata": {},
   "outputs": [],
   "source": []
  }
 ],
 "metadata": {
  "kernelspec": {
   "display_name": "Python 3",
   "language": "python",
   "name": "python3"
  },
  "language_info": {
   "codemirror_mode": {
    "name": "ipython",
    "version": 3
   },
   "file_extension": ".py",
   "mimetype": "text/x-python",
   "name": "python",
   "nbconvert_exporter": "python",
   "pygments_lexer": "ipython3",
   "version": "3.6.2"
  }
 },
 "nbformat": 4,
 "nbformat_minor": 2
}
